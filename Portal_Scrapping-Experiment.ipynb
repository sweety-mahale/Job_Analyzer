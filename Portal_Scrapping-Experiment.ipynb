{
 "cells": [
  {
   "cell_type": "code",
   "execution_count": 2,
   "id": "18d1582f-f598-4e5b-921c-ca3f54a42ff2",
   "metadata": {},
   "outputs": [],
   "source": [
    "import requests\n",
    "from bs4 import BeautifulSoup"
   ]
  },
  {
   "cell_type": "code",
   "execution_count": 3,
   "id": "497912ec-4d02-4c3b-8428-d0d323c18c7a",
   "metadata": {},
   "outputs": [],
   "source": [
    "link='https://www.naukri.com/jobs-in-india'"
   ]
  },
  {
   "cell_type": "code",
   "execution_count": 4,
   "id": "56883744-05e6-45a5-81ab-69c0185433ea",
   "metadata": {},
   "outputs": [],
   "source": [
    "res=requests.get(link)"
   ]
  },
  {
   "cell_type": "code",
   "execution_count": 5,
   "id": "7bacda76-156d-456f-91b0-4277b1926ce7",
   "metadata": {},
   "outputs": [],
   "source": [
    "html=res.text"
   ]
  },
  {
   "cell_type": "code",
   "execution_count": 20,
   "id": "9201912f-076a-40c3-af37-986227fba4bf",
   "metadata": {},
   "outputs": [],
   "source": [
    "fd=open('main.html','w')\n",
    "fd.write(html)\n",
    "fd.close()"
   ]
  },
  {
   "cell_type": "code",
   "execution_count": 6,
   "id": "e426f8ce-293d-427b-ba77-d2790c08746d",
   "metadata": {},
   "outputs": [],
   "source": [
    "soup=BeautifulSoup(res.text,'html.parser')"
   ]
  },
  {
   "cell_type": "code",
   "execution_count": 7,
   "id": "814495ac-6ece-4c42-aa14-6ac2e8731269",
   "metadata": {},
   "outputs": [
    {
     "data": {
      "text/plain": [
       "[]"
      ]
     },
     "execution_count": 7,
     "metadata": {},
     "output_type": "execute_result"
    }
   ],
   "source": [
    "soup.find_all('a')"
   ]
  },
  {
   "cell_type": "raw",
   "id": "633e49e7-d0d7-491b-b0e2-5e1c30557ef7",
   "metadata": {},
   "source": [
    "!pip install selenium"
   ]
  },
  {
   "cell_type": "code",
   "execution_count": 8,
   "id": "5f0a2d57-1883-4753-96f9-485099971747",
   "metadata": {},
   "outputs": [],
   "source": [
    "from selenium import webdriver"
   ]
  },
  {
   "cell_type": "code",
   "execution_count": 9,
   "id": "c54c424d-a958-4aea-9733-2c3af333ab9a",
   "metadata": {},
   "outputs": [],
   "source": [
    "browser=webdriver.Chrome()"
   ]
  },
  {
   "cell_type": "code",
   "execution_count": 10,
   "id": "fc69e7b0-f871-4875-93ff-b3e074d18866",
   "metadata": {},
   "outputs": [],
   "source": [
    "browser.get('https://www.naukri.com/jobs-in-india')"
   ]
  },
  {
   "cell_type": "code",
   "execution_count": 11,
   "id": "32d29e0e-8033-40ef-a960-10b5285de517",
   "metadata": {},
   "outputs": [],
   "source": [
    "soup=BeautifulSoup(browser.page_source,'html.parser')"
   ]
  },
  {
   "cell_type": "code",
   "execution_count": 13,
   "id": "8adf4a81-445f-44c5-ba63-72f2f61b59ca",
   "metadata": {},
   "outputs": [
    {
     "data": {
      "text/plain": [
       "'240424009693'"
      ]
     },
     "execution_count": 13,
     "metadata": {},
     "output_type": "execute_result"
    }
   ],
   "source": [
    "soup.find_all('div',class_=\"srp-jobtuple-wrapper\")[0].get('data-job-id').strip()"
   ]
  },
  {
   "cell_type": "code",
   "execution_count": 14,
   "id": "d1ad394d-2d91-49b2-9733-0bc8ad5477f7",
   "metadata": {},
   "outputs": [
    {
     "data": {
      "text/plain": [
       "'Area Sales Manager'"
      ]
     },
     "execution_count": 14,
     "metadata": {},
     "output_type": "execute_result"
    }
   ],
   "source": [
    " soup.find_all('a' , class_ = 'title')[0].text.strip()"
   ]
  },
  {
   "cell_type": "code",
   "execution_count": 15,
   "id": "e2b326c6-39e0-40e9-9923-6eb9b5ccb4cb",
   "metadata": {},
   "outputs": [
    {
     "data": {
      "text/plain": [
       "'https://www.naukri.com/job-listings-area-sales-manager-arkray-healthcare-ernakulam-kolkata-surat-1-to-3-years-240424009693'"
      ]
     },
     "execution_count": 15,
     "metadata": {},
     "output_type": "execute_result"
    }
   ],
   "source": [
    "soup.find_all('a' , class_ = 'title')[0].get('href')"
   ]
  },
  {
   "cell_type": "code",
   "execution_count": 16,
   "id": "78fba23b-8883-491a-a604-3464352e451b",
   "metadata": {},
   "outputs": [
    {
     "data": {
      "text/plain": [
       "'Arkray Healthcare'"
      ]
     },
     "execution_count": 16,
     "metadata": {},
     "output_type": "execute_result"
    }
   ],
   "source": [
    "soup.find_all('a' , class_ = 'comp-name mw-25')[0].text.strip()"
   ]
  },
  {
   "cell_type": "code",
   "execution_count": 17,
   "id": "d92dd4f3-e6bb-4554-9cf8-7e1648f32670",
   "metadata": {},
   "outputs": [
    {
     "data": {
      "text/plain": [
       "'https://www.naukri.com/arkray-healthcare-jobs-careers-83834'"
      ]
     },
     "execution_count": 17,
     "metadata": {},
     "output_type": "execute_result"
    }
   ],
   "source": [
    "soup.find_all('a' , class_ = 'comp-name mw-25')[0].get('href')"
   ]
  },
  {
   "cell_type": "code",
   "execution_count": 19,
   "id": "217d99f3-2999-4e17-a09d-3625c7f84b27",
   "metadata": {},
   "outputs": [
    {
     "data": {
      "text/plain": [
       "'168  Reviews'"
      ]
     },
     "execution_count": 19,
     "metadata": {},
     "output_type": "execute_result"
    }
   ],
   "source": [
    "soup.find_all('a' , class_ = 'review ver-line')[0].text.strip()"
   ]
  },
  {
   "cell_type": "code",
   "execution_count": 28,
   "id": "c9aeed20-c9b6-4c78-a5c6-6790f831b957",
   "metadata": {},
   "outputs": [
    {
     "data": {
      "text/plain": [
       "'1-3 Yrs'"
      ]
     },
     "execution_count": 28,
     "metadata": {},
     "output_type": "execute_result"
    }
   ],
   "source": [
    "soup.find_all('span',class_='expwdth')[0].text.strip()"
   ]
  },
  {
   "cell_type": "code",
   "execution_count": 20,
   "id": "b289fe18-1748-4934-a3b1-613fd7581340",
   "metadata": {},
   "outputs": [
    {
     "data": {
      "text/plain": [
       "'3.9'"
      ]
     },
     "execution_count": 20,
     "metadata": {},
     "output_type": "execute_result"
    }
   ],
   "source": [
    "soup.find_all('a' , class_ = 'rating')[0].find('span',class_='main-2').text.strip()"
   ]
  },
  {
   "cell_type": "code",
   "execution_count": 29,
   "id": "183c9e99-d700-4a45-9320-b941aa1be643",
   "metadata": {},
   "outputs": [
    {
     "data": {
      "text/plain": [
       "'3-4 Lacs PA'"
      ]
     },
     "execution_count": 29,
     "metadata": {},
     "output_type": "execute_result"
    }
   ],
   "source": [
    "soup.find_all('span',class_='sal-wrap ver-line')[0].text.strip()"
   ]
  },
  {
   "cell_type": "code",
   "execution_count": 31,
   "id": "2245db9c-a532-4ccd-89d1-42f348cddced",
   "metadata": {},
   "outputs": [
    {
     "data": {
      "text/plain": [
       "'Ernakulam, Kolkata, Surat'"
      ]
     },
     "execution_count": 31,
     "metadata": {},
     "output_type": "execute_result"
    }
   ],
   "source": [
    "soup.find_all('span',class_='locWdth')[0].text.strip()"
   ]
  },
  {
   "cell_type": "code",
   "execution_count": 32,
   "id": "0f43f076-404d-437f-b386-8da6d92d2675",
   "metadata": {},
   "outputs": [
    {
     "data": {
      "text/plain": [
       "'2 Days Ago'"
      ]
     },
     "execution_count": 32,
     "metadata": {},
     "output_type": "execute_result"
    }
   ],
   "source": [
    "soup.find_all('span',class_='job-post-day')[0].text.strip()"
   ]
  },
  {
   "cell_type": "code",
   "execution_count": 37,
   "id": "31b2d9c9-529e-4ea0-8e50-c5cfcfc9690f",
   "metadata": {},
   "outputs": [
    {
     "data": {
      "text/plain": [
       "'Sales And Marketing,IVD,Diagnostics,Blood Gluco Meter,Medical Devices,BP Monitor Machines,Medical,Sales'"
      ]
     },
     "execution_count": 37,
     "metadata": {},
     "output_type": "execute_result"
    }
   ],
   "source": [
    "','.join([i.text.strip() for i in soup.find_all('ul',class_ = 'tags-gt')[0].find_all('li')])"
   ]
  },
  {
   "cell_type": "code",
   "execution_count": 38,
   "id": "d78866f0-a252-4415-9bb8-af6ae9c6cba5",
   "metadata": {},
   "outputs": [],
   "source": [
    "job_id=soup.find_all('div',class_=\"srp-jobtuple-wrapper\")[1].get('data-job-id').strip()"
   ]
  },
  {
   "cell_type": "code",
   "execution_count": 43,
   "id": "6cabc542-fd0a-40f9-afd4-7f6936fc39c7",
   "metadata": {},
   "outputs": [],
   "source": [
    "job_role= soup.find_all('a' , class_ = 'title')[1].text.strip()"
   ]
  },
  {
   "cell_type": "code",
   "execution_count": 44,
   "id": "e9f041af-56f9-4d7e-9804-a89854a500ff",
   "metadata": {},
   "outputs": [],
   "source": [
    "job_link=soup.find_all('a' , class_ = 'title')[1].get('href')"
   ]
  },
  {
   "cell_type": "code",
   "execution_count": 45,
   "id": "66f43c0d-f965-493d-9085-661eea6dfcfe",
   "metadata": {},
   "outputs": [],
   "source": [
    "company=soup.find_all('a' , class_ = 'comp-name mw-25')[1].text.strip()"
   ]
  },
  {
   "cell_type": "code",
   "execution_count": 46,
   "id": "cf26a59d-a1b6-4093-9e43-7e403e02ced6",
   "metadata": {},
   "outputs": [],
   "source": [
    "company_link=soup.find_all('a' , class_ = 'comp-name mw-25')[1].get('href')"
   ]
  },
  {
   "cell_type": "code",
   "execution_count": 48,
   "id": "886770dc-e4b7-439f-aed8-25cbb105445b",
   "metadata": {},
   "outputs": [],
   "source": [
    "Review=soup.find_all('a' , class_ = 'review ver-line')[1].text.strip()"
   ]
  },
  {
   "cell_type": "code",
   "execution_count": 50,
   "id": "20a85d44-d38d-469c-a3ca-36633d928807",
   "metadata": {},
   "outputs": [],
   "source": [
    "Rating=soup.find_all('a' , class_ = 'rating')[1].find('span',class_='main-2').text.strip()"
   ]
  },
  {
   "cell_type": "code",
   "execution_count": 51,
   "id": "11a18ee6-54d8-4704-89b8-6d41658e4598",
   "metadata": {},
   "outputs": [],
   "source": [
    "Experience=soup.find_all('span',class_='expwdth')[1].text.strip()"
   ]
  },
  {
   "cell_type": "code",
   "execution_count": 52,
   "id": "ea976b8c-5933-4dd8-8ace-f07be0a89ce8",
   "metadata": {},
   "outputs": [],
   "source": [
    "Salary=soup.find_all('span',class_='sal-wrap ver-line')[1].text.strip()"
   ]
  },
  {
   "cell_type": "code",
   "execution_count": 56,
   "id": "7c625c8b-735b-4647-a261-70f557d1caf3",
   "metadata": {},
   "outputs": [],
   "source": [
    "Location=soup.find_all('span',class_='locWdth')[1].text.strip()"
   ]
  },
  {
   "cell_type": "code",
   "execution_count": 57,
   "id": "ab028af9-65bc-4d4d-8f3c-d28f39452b7d",
   "metadata": {},
   "outputs": [],
   "source": [
    "Keyskill=','.join([i.text.strip() for i in soup.find_all('ul',class_ = 'tags-gt')[1].find_all('li')])"
   ]
  },
  {
   "cell_type": "code",
   "execution_count": 58,
   "id": "b4055ffe-114b-4f37-98e2-57e73868b7c9",
   "metadata": {},
   "outputs": [],
   "source": [
    "Posted_on=soup.find_all('span',class_='job-post-day')[1].text.strip()"
   ]
  },
  {
   "cell_type": "code",
   "execution_count": 63,
   "id": "1dd53faa-740e-4c36-b2bd-c30a731c56d6",
   "metadata": {},
   "outputs": [
    {
     "name": "stdout",
     "output_type": "stream",
     "text": [
      "220524012387 \n",
      " Data Architect \n",
      " https://www.naukri.com/job-listings-data-architect-calsoft-kolkata-pune-bengaluru-12-to-22-years-220524012387 \n",
      " Calsoft \n",
      " https://www.naukri.com/calsoft-jobs-careers-180 \n",
      " 306  Reviews \n",
      " 3.2 \n",
      " 12-22 Yrs \n",
      " 30-45 Lacs PA \n",
      " Kolkata, Pune, Bengaluru \n",
      " Data Architecture,Data Transformation,Data Quality,Data Profiling,Metadata,Data Modeling,ERwin,Data Governance \n",
      " 1 Day Ago\n"
     ]
    }
   ],
   "source": [
    "print(job_id,\"\\n\",job_role,\"\\n\",job_link,\"\\n\",company,\"\\n\",company_link,\"\\n\",Review, \"\\n\",Rating,\"\\n\",Experience,\"\\n\",Salary,\"\\n\",Location,\"\\n\",Keyskill,\"\\n\",Posted_on)"
   ]
  },
  {
   "cell_type": "code",
   "execution_count": null,
   "id": "684642f1-5935-427e-989a-ffd28e3f13a7",
   "metadata": {},
   "outputs": [],
   "source": []
  }
 ],
 "metadata": {
  "kernelspec": {
   "display_name": "Python 3 (ipykernel)",
   "language": "python",
   "name": "python3"
  },
  "language_info": {
   "codemirror_mode": {
    "name": "ipython",
    "version": 3
   },
   "file_extension": ".py",
   "mimetype": "text/x-python",
   "name": "python",
   "nbconvert_exporter": "python",
   "pygments_lexer": "ipython3",
   "version": "3.11.7"
  }
 },
 "nbformat": 4,
 "nbformat_minor": 5
}
